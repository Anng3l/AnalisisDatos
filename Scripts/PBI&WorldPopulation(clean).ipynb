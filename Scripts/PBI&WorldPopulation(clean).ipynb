{
 "cells": [
  {
   "cell_type": "code",
   "execution_count": 2,
   "id": "f9e88314-b8e9-4481-9af7-fffd42bcdbc1",
   "metadata": {},
   "outputs": [],
   "source": [
    "import pandas as pd\n",
    "\n",
    "# Función para limpiar datos de población\n",
    "def clean_population_data(df):\n",
    "    # Eliminar duplicados\n",
    "    df_cleaned = df.drop_duplicates()\n",
    "    # Asegurarse de que los tipos de datos sean correctos\n",
    "    df_cleaned = df_cleaned.astype({\n",
    "        'Rank': int,\n",
    "        '2022 Population': int,\n",
    "        '2020 Population': int,\n",
    "        '2015 Population': int,\n",
    "        '2010 Population': int,\n",
    "        '2000 Population': int,\n",
    "        '1990 Population': int,\n",
    "        '1980 Population': int,\n",
    "        '1970 Population': int,\n",
    "        'Area (km²)': int,\n",
    "        'Density (per km²)': float,\n",
    "        'Growth Rate': float,\n",
    "        'World Population Percentage': float\n",
    "    })\n",
    "    return df_cleaned\n",
    "\n",
    "# Función para limpiar datos de PIB\n",
    "def clean_gdp_data(df):\n",
    "    # Eliminar duplicados\n",
    "    df_cleaned = df.drop_duplicates()\n",
    "    # Convertir valores a números, manejando errores\n",
    "    for col in df.columns[1:]:\n",
    "        df_cleaned[col] = pd.to_numeric(df_cleaned[col], errors='coerce')\n",
    "    return df_cleaned\n",
    "\n",
    "# Cargar y limpiar los datos\n",
    "population_data = pd.read_csv('C:/Users/ALIENWARE M15/Desktop/DataSets/DATASETS GABRIEL/world_population.csv')\n",
    "gdp_data = pd.read_csv('C:/Users/ALIENWARE M15/Desktop/DataSets/DATASETS GABRIEL/pbi/GDP by Country 1999-2022.csv')\n",
    "\n",
    "cleaned_population_data = clean_population_data(population_data)\n",
    "cleaned_gdp_data = clean_gdp_data(gdp_data)\n"
   ]
  },
  {
   "cell_type": "code",
   "execution_count": null,
   "id": "534c93e7-c8cc-4ebf-8679-c11fdfa090e1",
   "metadata": {},
   "outputs": [],
   "source": []
  }
 ],
 "metadata": {
  "kernelspec": {
   "display_name": "Python 3 (ipykernel)",
   "language": "python",
   "name": "python3"
  },
  "language_info": {
   "codemirror_mode": {
    "name": "ipython",
    "version": 3
   },
   "file_extension": ".py",
   "mimetype": "text/x-python",
   "name": "python",
   "nbconvert_exporter": "python",
   "pygments_lexer": "ipython3",
   "version": "3.11.8"
  }
 },
 "nbformat": 4,
 "nbformat_minor": 5
}
